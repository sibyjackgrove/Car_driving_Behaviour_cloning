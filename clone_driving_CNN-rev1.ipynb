{
 "cells": [
  {
   "cell_type": "code",
   "execution_count": 1,
   "metadata": {
    "collapsed": false
   },
   "outputs": [
    {
     "name": "stdout",
     "output_type": "stream",
     "text": [
      "1.2.1\n"
     ]
    }
   ],
   "source": [
    "import tensorflow as tf\n",
    "import csv as csv\n",
    "import cv2\n",
    "import numpy as np\n",
    "import time as time\n",
    "import os.path\n",
    "print(tf.__version__)"
   ]
  },
  {
   "cell_type": "code",
   "execution_count": 50,
   "metadata": {
    "collapsed": false
   },
   "outputs": [
    {
     "name": "stdout",
     "output_type": "stream",
     "text": [
      "Sample data from file:\n",
      " ['C:\\\\Users\\\\siby.plathottam\\\\Documents\\\\Udacity\\\\Behavioral_cloning\\\\data\\\\IMG\\\\center_2017_08_04_18_00_29_104.jpg', 'C:\\\\Users\\\\siby.plathottam\\\\Documents\\\\Udacity\\\\Behavioral_cloning\\\\data\\\\IMG\\\\left_2017_08_04_18_00_29_104.jpg', 'C:\\\\Users\\\\siby.plathottam\\\\Documents\\\\Udacity\\\\Behavioral_cloning\\\\data\\\\IMG\\\\right_2017_08_04_18_00_29_104.jpg', '0', '1', '0', '30.19117']\n"
     ]
    }
   ],
   "source": [
    "lines =[]\n",
    "csv_file = \"driving_log.csv\"\n",
    "with open(csv_file) as csvfile:     #Exract csv file\n",
    "    reader = csv.reader(csvfile)\n",
    "    for line in reader:\n",
    "        lines.append(line)\n",
    "print(\"Sample data from file:\\n\",lines[0])"
   ]
  },
  {
   "cell_type": "code",
   "execution_count": 3,
   "metadata": {
    "collapsed": false
   },
   "outputs": [],
   "source": [
    "images=[]\n",
    "measurements =[]\n",
    "\n",
    "for line in lines:\n",
    "    source_path=line[0]\n",
    "    #print(source_path)\n",
    "               \n",
    "    filename = source_path.split('center')[-1] #for use in AWS instance\n",
    "    #print(filename)\n",
    "    current_path = 'IMG/' + 'center' + filename       #for use in AWS instance\n",
    "    #current_path =  source_path #+  folder        #for use in Local machine\n",
    "    if os.path.isfile(current_path) == True:\n",
    "        #print(current_path)\n",
    "        image_BGR = cv2.imread(current_path)            #Import image using cv2 library\n",
    "        image = cv2.cvtColor(image_BGR, cv2.COLOR_BGR2RGB) #Convert BGR to RGB\n",
    "        images.append(image)                 #Append image to list of images\n",
    "        measurement = float(line[3])               #Import steering angle \n",
    "        measurements.append(measurement)         #Append to list of steering angle\n"
   ]
  },
  {
   "cell_type": "code",
   "execution_count": 4,
   "metadata": {
    "collapsed": false
   },
   "outputs": [
    {
     "name": "stdout",
     "output_type": "stream",
     "text": [
      "Image data set = (30509, 160, 320, 3)\n",
      "Number of training examples = 30509\n"
     ]
    }
   ],
   "source": [
    "#Convert to numpy array\n",
    "X_train = np.array(images)       \n",
    "images = None\n",
    "y_train = np.array(measurements)\n",
    "measurement = None\n",
    "\n",
    "# TODO: Number of training examples\n",
    "assert(len(X_train) == len(y_train))  #Check whether number of samples of input is equal to number of samples of outputs\n",
    "n_train =len(X_train)\n",
    "print(\"Image data set =\",X_train.shape)\n",
    "print(\"Number of training examples =\", n_train)"
   ]
  },
  {
   "cell_type": "code",
   "execution_count": 6,
   "metadata": {
    "collapsed": false
   },
   "outputs": [
    {
     "name": "stdout",
     "output_type": "stream",
     "text": [
      "Corresponding Steering angle = 0.0\n"
     ]
    },
    {
     "data": {
      "image/png": "[encoded data removed]",
      "text/plain": [
       "<matplotlib.figure.Figure at 0x7f58e3e042e8>"
      ]
     },
     "metadata": {},
     "output_type": "display_data"
    }
   ],
   "source": [
    "### Data exploration visualization code goes here.\n",
    "import random\n",
    "import matplotlib.pyplot as plt\n",
    "# Visualizations will be shown in the notebook.\n",
    "%matplotlib inline\n",
    "index = random.randint(0, len(X_train))  #Find random image from dataset\n",
    "image = X_train[index].squeeze()   \n",
    "\n",
    "\n",
    "plt.figure(figsize=(1,1))\n",
    "plt.imshow(image)\n",
    "print(\"Corresponding Steering angle =\",y_train[index])   #Corresponding Steering angle"
   ]
  },
  {
   "cell_type": "code",
   "execution_count": 7,
   "metadata": {
    "collapsed": true
   },
   "outputs": [],
   "source": [
    "def resize_img(image):\n",
    "    import tensorflow as tf\n",
    "    return tf.image.resize_images(image, (66, 66),method = tf.image.ResizeMethod.NEAREST_NEIGHBOR)"
   ]
  },
  {
   "cell_type": "code",
   "execution_count": 23,
   "metadata": {
    "collapsed": false
   },
   "outputs": [
    {
     "name": "stdout",
     "output_type": "stream",
     "text": [
      "Using New Model\n",
      "_________________________________________________________________\n",
      "Layer (type)                 Output Shape              Param #   \n",
      "=================================================================\n",
      "InputLayer (InputLayer)      (None, 160, 320, 3)       0         \n",
      "_________________________________________________________________\n",
      "CropImage (Cropping2D)       (None, 90, 320, 3)        0         \n",
      "_________________________________________________________________\n",
      "ResizeImage (Lambda)         (None, 66, 66, 3)         0         \n",
      "_________________________________________________________________\n",
      "Normalizing (Lambda)         (None, 66, 66, 3)         0         \n",
      "_________________________________________________________________\n",
      "ConvLayer1 (Conv2D)          (None, 31, 31, 4)         304       \n",
      "_________________________________________________________________\n",
      "ConvLayer2 (Conv2D)          (None, 14, 14, 6)         606       \n",
      "_________________________________________________________________\n",
      "ConvLayer3 (Conv2D)          (None, 5, 5, 8)           1208      \n",
      "_________________________________________________________________\n",
      "DropOut1 (Dropout)           (None, 5, 5, 8)           0         \n",
      "_________________________________________________________________\n",
      "ConvLayer4 (Conv2D)          (None, 1, 1, 10)          2010      \n",
      "_________________________________________________________________\n",
      "Flatten (Flatten)            (None, 10)                0         \n",
      "_________________________________________________________________\n",
      "FeedForward1 (Dense)         (None, 10)                110       \n",
      "_________________________________________________________________\n",
      "ReLU1 (Activation)           (None, 10)                0         \n",
      "_________________________________________________________________\n",
      "FeedForward2 (Dense)         (None, 5)                 55        \n",
      "_________________________________________________________________\n",
      "ReLU2 (Activation)           (None, 5)                 0         \n",
      "_________________________________________________________________\n",
      "OutputLayer (Dense)          (None, 1)                 6         \n",
      "=================================================================\n",
      "Total params: 4,299\n",
      "Trainable params: 4,299\n",
      "Non-trainable params: 0\n",
      "_________________________________________________________________\n"
     ]
    }
   ],
   "source": [
    "use_existing = False\n",
    "if os.path.isfile('model.h5') == True and use_existing == True:\n",
    "    print(\"Model Exists...loading\")\n",
    "    existing_model = tf.contrib.keras.models.load_model('model.h5')\n",
    "    print(\"Model Loaded\")\n",
    "    existing_model.summary()\n",
    "    #print(load_model.get_config())\n",
    "else:\n",
    "    print(\"Using New Model\")\n",
    "    #Define model using Keras\n",
    "    drop_rate = 0.5\n",
    "    #bias0 = tf.contrib.keras.initializers.glorot_uniform()\n",
    "    #bias0 = tf.contrib.keras.initializers.RandomUniform() \n",
    "    bias0 =  'zeros'\n",
    "    \n",
    "    model = tf.contrib.keras.models.Sequential() \n",
    "    model.add(tf.contrib.keras.layers.InputLayer(input_shape=(160,320,3),name='InputLayer'))  #Input\n",
    "    model.add(tf.contrib.keras.layers.Cropping2D(cropping=((50,20),(0,0)),name='CropImage'))  #Cropping image\n",
    "    model.add(tf.contrib.keras.layers.Lambda(resize_img,name='ResizeImage'))          #Resizing image\n",
    "    model.add(tf.contrib.keras.layers.Lambda(lambda x:x/255.0 - 0.5,name='Normalizing'))  #Normalizing values\n",
    "\n",
    "    model.add(tf.contrib.keras.layers.Conv2D(filters=4,kernel_size=(5,5),strides=(2,2),activation='relu',bias_initializer=bias0,\n",
    "                                             name='ConvLayer1'))\n",
    "\n",
    "    model.add(tf.contrib.keras.layers.Conv2D(filters=6,kernel_size=(5,5),strides=(2,2),activation='relu',bias_initializer=bias0,\n",
    "                                             name='ConvLayer2'))\n",
    "\n",
    "    model.add(tf.contrib.keras.layers.Conv2D(filters=8,kernel_size=(5,5),strides=(2,2),activation='relu',bias_initializer=bias0,\n",
    "                                             name='ConvLayer3'))\n",
    "    model.add(tf.contrib.keras.layers.Dropout(drop_rate,name='DropOut1'))\n",
    "    model.add(tf.contrib.keras.layers.Conv2D(filters=10,kernel_size=(5,5),strides=(2,2),activation='relu',bias_initializer=bias0,\n",
    "                                             name='ConvLayer4'))\n",
    "    #model.add(tf.contrib.keras.layers.Dropout(drop_rate,name='DropOut1'))\n",
    "    model.add(tf.contrib.keras.layers.Flatten(name='Flatten'))\n",
    "    #model.add(tf.contrib.keras.layers.Dropout(drop_rate))\n",
    "    model.add(tf.contrib.keras.layers.Dense(units=10,bias_initializer=bias0,name='FeedForward1'))\n",
    "    model.add(tf.contrib.keras.layers.Activation('relu',name='ReLU1'))\n",
    "    #model.add(tf.contrib.keras.layers.Dropout(drop_rate,name='DropOut1'))\n",
    "    model.add(tf.contrib.keras.layers.Dense(units=5,bias_initializer=bias0,name='FeedForward2'))\n",
    "    model.add(tf.contrib.keras.layers.Activation('relu',name='ReLU2'))\n",
    "    #model.add(tf.contrib.keras.layers.Dropout(drop_rate,name='DropOut3'))\n",
    "    model.add(tf.contrib.keras.layers.Dense(units=1,bias_initializer=bias0,name='OutputLayer'))\n",
    "    model.compile(loss='mse',optimizer='adam')\n",
    "    model.summary()\n"
   ]
  },
  {
   "cell_type": "code",
   "execution_count": 26,
   "metadata": {
    "collapsed": false
   },
   "outputs": [
    {
     "name": "stdout",
     "output_type": "stream",
     "text": [
      "Train on 24407 samples, validate on 6102 samples\n",
      "Epoch 1/3\n",
      "24407/24407 [==============================] - 15s - loss: 0.0087 - val_loss: 0.0060\n",
      "Epoch 2/3\n",
      "24407/24407 [==============================] - 15s - loss: 0.0086 - val_loss: 0.0057\n",
      "Epoch 3/3\n",
      "24407/24407 [==============================] - 15s - loss: 0.0085 - val_loss: 0.0057\n",
      "Time: 0.761 minutes\n",
      "Model Saved\n"
     ]
    }
   ],
   "source": [
    "t = time.time()\n",
    "model.fit(X_train,y_train,batch_size=32,epochs=3,validation_split = 0.2,shuffle =True)\n",
    "print(\"Time: %.3f minutes\" % ((time.time() - t)/60))\n",
    "model.save('model.h5')\n",
    "print(\"Model Saved\")"
   ]
  },
  {
   "cell_type": "code",
   "execution_count": 48,
   "metadata": {
    "collapsed": false
   },
   "outputs": [
    {
     "name": "stdout",
     "output_type": "stream",
     "text": [
      "Corresponding Steering angle = [ 0.1176471]\n",
      "Prediicted Steering angle: [[ 0.12190036]]\n"
     ]
    },
    {
     "data": {
      "image/png": "[encoded data removed]",
      "text/plain": [
       "<matplotlib.figure.Figure at 0x7f58a5c4c940>"
      ]
     },
     "metadata": {},
     "output_type": "display_data"
    }
   ],
   "source": [
    "#Check predicted steering angle\n",
    "index = random.randint(0, len(X_train))  #Find random image from dataset\n",
    "samples=1\n",
    "test_image = X_train[index:index+samples]\n",
    "image = X_train[index].squeeze()   \n",
    "plt.figure(figsize=(1,1))\n",
    "plt.imshow(image)\n",
    "\n",
    "print(\"Corresponding Steering angle =\",y_train[index:index+samples])   #Corresponding Steering angle\n",
    "print(\"Prediicted Steering angle:\",model.predict(test_image,batch_size=1))\n"
   ]
  },
  {
   "cell_type": "code",
   "execution_count": null,
   "metadata": {
    "collapsed": true
   },
   "outputs": [],
   "source": []
  }
 ],
 "metadata": {
  "anaconda-cloud": {},
  "kernelspec": {
   "display_name": "Python [default]",
   "language": "python",
   "name": "python3"
  },
  "language_info": {
   "codemirror_mode": {
    "name": "ipython",
    "version": 3
   },
   "file_extension": ".py",
   "mimetype": "text/x-python",
   "name": "python",
   "nbconvert_exporter": "python",
   "pygments_lexer": "ipython3",
   "version": "3.5.2"
  }
 },
 "nbformat": 4,
 "nbformat_minor": 0
}
